{
 "cells": [
  {
   "cell_type": "code",
   "execution_count": 1,
   "metadata": {
    "vscode": {
     "languageId": "r"
    }
   },
   "outputs": [
    {
     "name": "stderr",
     "output_type": "stream",
     "text": [
      "\n",
      "Attaching package: ‘arrow’\n",
      "\n",
      "\n",
      "The following object is masked from ‘package:utils’:\n",
      "\n",
      "    timestamp\n",
      "\n",
      "\n"
     ]
    }
   ],
   "source": [
    "library(limma)\n",
    "library(statmod)\n",
    "library(arrow)"
   ]
  },
  {
   "cell_type": "code",
   "execution_count": 32,
   "metadata": {
    "vscode": {
     "languageId": "r"
    }
   },
   "outputs": [],
   "source": [
    "methylation_data <- read_feather(\"/home/vpal/hobotnica/Feature_selection/datasets/feather_ds_no_age_39_ds_only_interception/GSE32148.feather\")"
   ]
  },
  {
   "cell_type": "code",
   "execution_count": 46,
   "metadata": {
    "vscode": {
     "languageId": "r"
    }
   },
   "outputs": [],
   "source": [
    "metadata <- methylation_data[, c(\"index\", \"Condition\", \"Age\")]\n",
    "cpg_sites <- methylation_data[, !colnames(methylation_data) %in% c(\"index\", \"Condition\", \"Age\")]\n",
    "cpg_sites <- t(cpg_sites)\n",
    "\n",
    "metadata$Condition <- factor(metadata$Condition, levels = c(\"HC\", \"IBD\"))\n",
    "\n",
    "colnames(cpg_sites) <- metadata$index"
   ]
  },
  {
   "cell_type": "code",
   "execution_count": null,
   "metadata": {
    "vscode": {
     "languageId": "r"
    }
   },
   "outputs": [],
   "source": [
    "design <- model.matrix(~ Condition, data = metadata)\n",
    "\n",
    "fit <- lmFit(cpg_sites, design)\n",
    "fit <- eBayes(fit)"
   ]
  },
  {
   "cell_type": "code",
   "execution_count": 59,
   "metadata": {
    "vscode": {
     "languageId": "r"
    }
   },
   "outputs": [
    {
     "data": {
      "text/html": [
       "<table class=\"dataframe\">\n",
       "<caption>A data.frame: 6 × 6</caption>\n",
       "<thead>\n",
       "\t<tr><th></th><th scope=col>logFC</th><th scope=col>AveExpr</th><th scope=col>t</th><th scope=col>P.Value</th><th scope=col>adj.P.Val</th><th scope=col>B</th></tr>\n",
       "\t<tr><th></th><th scope=col>&lt;dbl&gt;</th><th scope=col>&lt;dbl&gt;</th><th scope=col>&lt;dbl&gt;</th><th scope=col>&lt;dbl&gt;</th><th scope=col>&lt;dbl&gt;</th><th scope=col>&lt;dbl&gt;</th></tr>\n",
       "</thead>\n",
       "<tbody>\n",
       "\t<tr><th scope=row>cg03681057</th><td>-0.08405159</td><td>-0.04933463</td><td>-5.493236</td><td>1.695771e-06</td><td>0.3691694</td><td>3.814514</td></tr>\n",
       "\t<tr><th scope=row>cg07288027</th><td> 0.01973600</td><td> 0.01158418</td><td> 4.879981</td><td>1.338139e-05</td><td>0.4784490</td><td>1.775708</td></tr>\n",
       "\t<tr><th scope=row>cg00574379</th><td> 0.08425533</td><td> 0.04945421</td><td> 4.854940</td><td>1.454264e-05</td><td>0.4784490</td><td>1.693898</td></tr>\n",
       "\t<tr><th scope=row>cg18687314</th><td>-0.03306551</td><td>-0.01940802</td><td>-4.802430</td><td>1.730919e-05</td><td>0.4784490</td><td>1.522787</td></tr>\n",
       "\t<tr><th scope=row>cg10540721</th><td> 0.02779380</td><td> 0.01631375</td><td> 4.781306</td><td>1.856278e-05</td><td>0.4784490</td><td>1.454124</td></tr>\n",
       "\t<tr><th scope=row>cg00008671</th><td> 0.08655073</td><td> 0.05080152</td><td> 4.773691</td><td>1.903629e-05</td><td>0.4784490</td><td>1.429393</td></tr>\n",
       "</tbody>\n",
       "</table>\n"
      ],
      "text/latex": [
       "A data.frame: 6 × 6\n",
       "\\begin{tabular}{r|llllll}\n",
       "  & logFC & AveExpr & t & P.Value & adj.P.Val & B\\\\\n",
       "  & <dbl> & <dbl> & <dbl> & <dbl> & <dbl> & <dbl>\\\\\n",
       "\\hline\n",
       "\tcg03681057 & -0.08405159 & -0.04933463 & -5.493236 & 1.695771e-06 & 0.3691694 & 3.814514\\\\\n",
       "\tcg07288027 &  0.01973600 &  0.01158418 &  4.879981 & 1.338139e-05 & 0.4784490 & 1.775708\\\\\n",
       "\tcg00574379 &  0.08425533 &  0.04945421 &  4.854940 & 1.454264e-05 & 0.4784490 & 1.693898\\\\\n",
       "\tcg18687314 & -0.03306551 & -0.01940802 & -4.802430 & 1.730919e-05 & 0.4784490 & 1.522787\\\\\n",
       "\tcg10540721 &  0.02779380 &  0.01631375 &  4.781306 & 1.856278e-05 & 0.4784490 & 1.454124\\\\\n",
       "\tcg00008671 &  0.08655073 &  0.05080152 &  4.773691 & 1.903629e-05 & 0.4784490 & 1.429393\\\\\n",
       "\\end{tabular}\n"
      ],
      "text/markdown": [
       "\n",
       "A data.frame: 6 × 6\n",
       "\n",
       "| <!--/--> | logFC &lt;dbl&gt; | AveExpr &lt;dbl&gt; | t &lt;dbl&gt; | P.Value &lt;dbl&gt; | adj.P.Val &lt;dbl&gt; | B &lt;dbl&gt; |\n",
       "|---|---|---|---|---|---|---|\n",
       "| cg03681057 | -0.08405159 | -0.04933463 | -5.493236 | 1.695771e-06 | 0.3691694 | 3.814514 |\n",
       "| cg07288027 |  0.01973600 |  0.01158418 |  4.879981 | 1.338139e-05 | 0.4784490 | 1.775708 |\n",
       "| cg00574379 |  0.08425533 |  0.04945421 |  4.854940 | 1.454264e-05 | 0.4784490 | 1.693898 |\n",
       "| cg18687314 | -0.03306551 | -0.01940802 | -4.802430 | 1.730919e-05 | 0.4784490 | 1.522787 |\n",
       "| cg10540721 |  0.02779380 |  0.01631375 |  4.781306 | 1.856278e-05 | 0.4784490 | 1.454124 |\n",
       "| cg00008671 |  0.08655073 |  0.05080152 |  4.773691 | 1.903629e-05 | 0.4784490 | 1.429393 |\n",
       "\n"
      ],
      "text/plain": [
       "           logFC       AveExpr     t         P.Value      adj.P.Val B       \n",
       "cg03681057 -0.08405159 -0.04933463 -5.493236 1.695771e-06 0.3691694 3.814514\n",
       "cg07288027  0.01973600  0.01158418  4.879981 1.338139e-05 0.4784490 1.775708\n",
       "cg00574379  0.08425533  0.04945421  4.854940 1.454264e-05 0.4784490 1.693898\n",
       "cg18687314 -0.03306551 -0.01940802 -4.802430 1.730919e-05 0.4784490 1.522787\n",
       "cg10540721  0.02779380  0.01631375  4.781306 1.856278e-05 0.4784490 1.454124\n",
       "cg00008671  0.08655073  0.05080152  4.773691 1.903629e-05 0.4784490 1.429393"
      ]
     },
     "metadata": {},
     "output_type": "display_data"
    }
   ],
   "source": [
    "top_dmp <- topTable(fit, coef = \"ConditionIBD\", number = Inf, adjust = \"BH\")\n",
    "head(top_dmp)"
   ]
  },
  {
   "cell_type": "code",
   "execution_count": 56,
   "metadata": {
    "vscode": {
     "languageId": "r"
    }
   },
   "outputs": [],
   "source": [
    "write.csv(top_dmp, \"/home/vpal/hobotnica/Feature_selection/diff_methylation/diff_met_all_sites/GSE32148.csv\", row.names = TRUE)"
   ]
  },
  {
   "cell_type": "code",
   "execution_count": 62,
   "metadata": {
    "vscode": {
     "languageId": "r"
    }
   },
   "outputs": [],
   "source": [
    "significant_sites <- top_dmp[abs(top_dmp$logFC) > 0.2, ]"
   ]
  },
  {
   "cell_type": "code",
   "execution_count": 79,
   "metadata": {
    "vscode": {
     "languageId": "r"
    }
   },
   "outputs": [
    {
     "data": {
      "text/html": [
       "<table class=\"dataframe\">\n",
       "<caption>A data.frame: 6 × 7</caption>\n",
       "<thead>\n",
       "\t<tr><th></th><th scope=col>logFC</th><th scope=col>AveExpr</th><th scope=col>t</th><th scope=col>P.Value</th><th scope=col>adj.P.Val</th><th scope=col>B</th><th scope=col>significant</th></tr>\n",
       "\t<tr><th></th><th scope=col>&lt;dbl&gt;</th><th scope=col>&lt;dbl&gt;</th><th scope=col>&lt;dbl&gt;</th><th scope=col>&lt;dbl&gt;</th><th scope=col>&lt;dbl&gt;</th><th scope=col>&lt;dbl&gt;</th><th scope=col>&lt;chr&gt;</th></tr>\n",
       "</thead>\n",
       "<tbody>\n",
       "\t<tr><th scope=row>cg02879423</th><td> 0.1148806</td><td> 0.06742989</td><td> 4.571050</td><td>3.705916e-05</td><td>0.6067185</td><td> 0.7763831</td><td>Significant</td></tr>\n",
       "\t<tr><th scope=row>cg15551881</th><td> 0.1097698</td><td> 0.06443009</td><td> 4.461420</td><td>5.295200e-05</td><td>0.6067185</td><td> 0.4274446</td><td>Significant</td></tr>\n",
       "\t<tr><th scope=row>cg00293644</th><td>-0.1000342</td><td>-0.05871570</td><td>-4.146564</td><td>1.452453e-04</td><td>0.7913371</td><td>-0.5553406</td><td>Significant</td></tr>\n",
       "\t<tr><th scope=row>cg19190593</th><td>-0.1074109</td><td>-0.06304553</td><td>-3.753856</td><td>4.917220e-04</td><td>0.8345042</td><td>-1.7339630</td><td>Significant</td></tr>\n",
       "\t<tr><th scope=row>cg11348106</th><td>-0.1029377</td><td>-0.06041996</td><td>-3.661819</td><td>6.496693e-04</td><td>0.8495687</td><td>-2.0014744</td><td>Significant</td></tr>\n",
       "\t<tr><th scope=row>cg05613718</th><td> 0.1679833</td><td> 0.09859887</td><td> 3.493403</td><td>1.073001e-03</td><td>0.9369171</td><td>-2.4814518</td><td>Significant</td></tr>\n",
       "</tbody>\n",
       "</table>\n"
      ],
      "text/latex": [
       "A data.frame: 6 × 7\n",
       "\\begin{tabular}{r|lllllll}\n",
       "  & logFC & AveExpr & t & P.Value & adj.P.Val & B & significant\\\\\n",
       "  & <dbl> & <dbl> & <dbl> & <dbl> & <dbl> & <dbl> & <chr>\\\\\n",
       "\\hline\n",
       "\tcg02879423 &  0.1148806 &  0.06742989 &  4.571050 & 3.705916e-05 & 0.6067185 &  0.7763831 & Significant\\\\\n",
       "\tcg15551881 &  0.1097698 &  0.06443009 &  4.461420 & 5.295200e-05 & 0.6067185 &  0.4274446 & Significant\\\\\n",
       "\tcg00293644 & -0.1000342 & -0.05871570 & -4.146564 & 1.452453e-04 & 0.7913371 & -0.5553406 & Significant\\\\\n",
       "\tcg19190593 & -0.1074109 & -0.06304553 & -3.753856 & 4.917220e-04 & 0.8345042 & -1.7339630 & Significant\\\\\n",
       "\tcg11348106 & -0.1029377 & -0.06041996 & -3.661819 & 6.496693e-04 & 0.8495687 & -2.0014744 & Significant\\\\\n",
       "\tcg05613718 &  0.1679833 &  0.09859887 &  3.493403 & 1.073001e-03 & 0.9369171 & -2.4814518 & Significant\\\\\n",
       "\\end{tabular}\n"
      ],
      "text/markdown": [
       "\n",
       "A data.frame: 6 × 7\n",
       "\n",
       "| <!--/--> | logFC &lt;dbl&gt; | AveExpr &lt;dbl&gt; | t &lt;dbl&gt; | P.Value &lt;dbl&gt; | adj.P.Val &lt;dbl&gt; | B &lt;dbl&gt; | significant &lt;chr&gt; |\n",
       "|---|---|---|---|---|---|---|---|\n",
       "| cg02879423 |  0.1148806 |  0.06742989 |  4.571050 | 3.705916e-05 | 0.6067185 |  0.7763831 | Significant |\n",
       "| cg15551881 |  0.1097698 |  0.06443009 |  4.461420 | 5.295200e-05 | 0.6067185 |  0.4274446 | Significant |\n",
       "| cg00293644 | -0.1000342 | -0.05871570 | -4.146564 | 1.452453e-04 | 0.7913371 | -0.5553406 | Significant |\n",
       "| cg19190593 | -0.1074109 | -0.06304553 | -3.753856 | 4.917220e-04 | 0.8345042 | -1.7339630 | Significant |\n",
       "| cg11348106 | -0.1029377 | -0.06041996 | -3.661819 | 6.496693e-04 | 0.8495687 | -2.0014744 | Significant |\n",
       "| cg05613718 |  0.1679833 |  0.09859887 |  3.493403 | 1.073001e-03 | 0.9369171 | -2.4814518 | Significant |\n",
       "\n"
      ],
      "text/plain": [
       "           logFC      AveExpr     t         P.Value      adj.P.Val B         \n",
       "cg02879423  0.1148806  0.06742989  4.571050 3.705916e-05 0.6067185  0.7763831\n",
       "cg15551881  0.1097698  0.06443009  4.461420 5.295200e-05 0.6067185  0.4274446\n",
       "cg00293644 -0.1000342 -0.05871570 -4.146564 1.452453e-04 0.7913371 -0.5553406\n",
       "cg19190593 -0.1074109 -0.06304553 -3.753856 4.917220e-04 0.8345042 -1.7339630\n",
       "cg11348106 -0.1029377 -0.06041996 -3.661819 6.496693e-04 0.8495687 -2.0014744\n",
       "cg05613718  0.1679833  0.09859887  3.493403 1.073001e-03 0.9369171 -2.4814518\n",
       "           significant\n",
       "cg02879423 Significant\n",
       "cg15551881 Significant\n",
       "cg00293644 Significant\n",
       "cg19190593 Significant\n",
       "cg11348106 Significant\n",
       "cg05613718 Significant"
      ]
     },
     "metadata": {},
     "output_type": "display_data"
    }
   ],
   "source": [
    "significant_sites <- top_dmp[top_dmp$P.Value < 0.05 & abs(top_dmp$logFC) > 0.1, ]\n",
    "head(significant_sites)"
   ]
  },
  {
   "cell_type": "code",
   "execution_count": 78,
   "metadata": {
    "vscode": {
     "languageId": "r"
    }
   },
   "outputs": [],
   "source": [
    "write.csv(top_dmp, \"/home/vpal/hobotnica/Feature_selection/diff_methylation/diff_met_only_significant_sites_LogFC>0.1/GSE32148.csv\", row.names = TRUE)"
   ]
  },
  {
   "cell_type": "code",
   "execution_count": 77,
   "metadata": {
    "vscode": {
     "languageId": "r"
    }
   },
   "outputs": [
    {
     "data": {
      "image/png": "[encoded data removed]",
      "text/plain": [
       "plot without title"
      ]
     },
     "metadata": {
      "image/png": {
       "height": 420,
       "width": 420
      }
     },
     "output_type": "display_data"
    }
   ],
   "source": [
    "library(ggplot2)\n",
    "\n",
    "# Add a significance column\n",
    "top_dmp$significant <- ifelse(top_dmp$P.Value < 0.05 & abs(top_dmp$logFC) > 0.1, \"Significant\", \"Not Significant\")\n",
    "\n",
    "# Volcano plot with highlights\n",
    "ggplot(top_dmp, aes(x = logFC, y = -log10(P.Value), color = significant)) +\n",
    "  geom_point() +\n",
    "  scale_color_manual(values = c(\"Significant\" = \"red\", \"Not Significant\" = \"black\")) +\n",
    "  geom_hline(yintercept = -log10(0.05), col = \"blue\", linetype = \"dashed\") +\n",
    "  theme_minimal() +\n",
    "  labs(title = \"Enhanced Volcano Plot\", x = \"Log Fold Change\", y = \"-Log10 P-Value\")"
   ]
  },
  {
   "cell_type": "code",
   "execution_count": 95,
   "metadata": {
    "vscode": {
     "languageId": "r"
    }
   },
   "outputs": [],
   "source": [
    "\n",
    "# input_folder <- \"/home/vpal/hobotnica/Feature_selection/datasets/feather_ds_no_age_39_ds_only_interception\"    \n",
    "# output_folder <- \"/home/vpal/hobotnica/Feature_selection/diff_methylation/diff_met_all_sites\" \n",
    "# sig_features <- \"/home/vpal/hobotnica/Feature_selection/diff_methylation/diff_met_only_significant_sites_LogFC>0.1\"\n",
    "# if (!dir.exists(output_folder)) dir.create(output_folder)\n",
    "\n",
    "# files <- list.files(input_folder, full.names = TRUE) \n",
    "\n",
    "# for (file in files) {\n",
    "  \n",
    "#   cat(\"Processing file:\", file, \"\\n\")\n",
    "\n",
    "#   dataset <- read_feather(file) \n",
    "  \n",
    "#   metadata <- dataset[, c(\"Condition\", \"Age\", \"index\")] \n",
    "#   cpg_sites <- dataset[, !colnames(dataset) %in% c(\"Condition\", \"index\", \"Age\")]\n",
    "#   cpg_sites <- t(cpg_sites)\n",
    "#   metadata$Condition <- factor(metadata$Condition)\n",
    "\n",
    "#   colnames(cpg_sites) <- metadata$index\n",
    "#   design <- model.matrix(~ Condition, data = metadata)\n",
    "\n",
    "#   fit <- lmFit(cpg_sites, design)\n",
    "#   fit <- eBayes(fit)\n",
    "\n",
    "#   top_dmp <- topTable(fit, coef = 2, number = Inf, adjust = \"BH\") \n",
    "  \n",
    "#   output_file_all <- file.path(output_folder, paste0(basename(file)))\n",
    "#   write.csv(top_dmp, output_file_all, row.names = TRUE)\n",
    "  \n",
    "#   # Filter significant sites (P.Val < 0.05 and abs(logFC) > 0.1)\n",
    "#   significant_sites <- top_dmp[top_dmp$P.Val < 0.05 & abs(top_dmp$logFC) > 0.1, ]\n",
    "#   output_file_significant <- file.path(sig_features, paste0(basename(file)))\n",
    "#   write.csv(significant_sites, output_file_significant, row.names = TRUE)\n",
    "# }"
   ]
  },
  {
   "cell_type": "code",
   "execution_count": null,
   "metadata": {
    "vscode": {
     "languageId": "r"
    }
   },
   "outputs": [],
   "source": [
    "##parametrs adjustement. S0, the parametrs for filtartion are pval 0.01 and lfg |0.035|\n",
    "\n",
    "# library(dplyr)\n",
    "\n",
    "# folder_path <- \"/home/vpal/hobotnica/Feature_selection/diff_methylation/diff_met_all_sites\"  \n",
    "# file_list <- list.files(folder_path, full.names = TRUE)\n",
    "\n",
    "# threshold_results <- data.frame()\n",
    "\n",
    "# calculate_significant_sites <- function(data, pval_threshold, logfc_threshold) {\n",
    "#   data %>%\n",
    "#     filter(P.Value < pval_threshold & abs(logFC) > logfc_threshold) %>%\n",
    "#     nrow()\n",
    "# }\n",
    "\n",
    "# pval_values <- seq(0.01, 0.1, by = 0.01) \n",
    "# logfc_values <- seq(0.035, 0.1, by = 0.01)  \n",
    "\n",
    "# for (file in file_list) {\n",
    "#   data <- read.csv(file, stringsAsFactors = FALSE)\n",
    "#   dataset_name <- tools::file_path_sans_ext(basename(file))\n",
    "  \n",
    "#   if (all(c(\"P.Value\", \"logFC\") %in% colnames(data))) {\n",
    "#     for (pval_threshold in pval_values) {\n",
    "#       for (logfc_threshold in logfc_values) {\n",
    "#         n_significant <- calculate_significant_sites(data, pval_threshold, logfc_threshold)\n",
    "#         if (n_significant >= 10) {\n",
    "#           threshold_results <- rbind(\n",
    "#             threshold_results,\n",
    "#             data.frame(Dataset = dataset_name, Pval = pval_threshold, LogFC = logfc_threshold, Sites = n_significant)\n",
    "#           )\n",
    "#           break\n",
    "#         }\n",
    "#       }\n",
    "#       if (dataset_name %in% threshold_results$Dataset) break\n",
    "#     }\n",
    "#   } \n",
    "# }\n",
    "\n",
    "# print(threshold_results)\n",
    "# write.csv(threshold_results, \"/home/vpal/hobotnica/Feature_selection/diff_methylation/optimal_thresholds.csv\", row.names = FALSE)"
   ]
  },
  {
   "cell_type": "code",
   "execution_count": null,
   "metadata": {
    "vscode": {
     "languageId": "r"
    }
   },
   "outputs": [
    {
     "name": "stderr",
     "output_type": "stream",
     "text": [
      "Filtered data for GSE106648 saved to /home/vpal/hobotnica/Feature_selection/diff_methylation/diff_met_LogFC>0.035_and_pval_0.01/GSE106648\n",
      "\n",
      "Filtered data for GSE107143 saved to /home/vpal/hobotnica/Feature_selection/diff_methylation/diff_met_LogFC>0.035_and_pval_0.01/GSE107143\n",
      "\n",
      "Filtered data for GSE111223 saved to /home/vpal/hobotnica/Feature_selection/diff_methylation/diff_met_LogFC>0.035_and_pval_0.01/GSE111223\n",
      "\n",
      "Filtered data for GSE111629 saved to /home/vpal/hobotnica/Feature_selection/diff_methylation/diff_met_LogFC>0.035_and_pval_0.01/GSE111629\n",
      "\n",
      "Filtered data for GSE118468 saved to /home/vpal/hobotnica/Feature_selection/diff_methylation/diff_met_LogFC>0.035_and_pval_0.01/GSE118468\n",
      "\n",
      "Filtered data for GSE118469 saved to /home/vpal/hobotnica/Feature_selection/diff_methylation/diff_met_LogFC>0.035_and_pval_0.01/GSE118469\n",
      "\n",
      "Filtered data for GSE122244 saved to /home/vpal/hobotnica/Feature_selection/diff_methylation/diff_met_LogFC>0.035_and_pval_0.01/GSE122244\n",
      "\n",
      "Filtered data for GSE130029 saved to /home/vpal/hobotnica/Feature_selection/diff_methylation/diff_met_LogFC>0.035_and_pval_0.01/GSE130029\n",
      "\n",
      "Filtered data for GSE130030 saved to /home/vpal/hobotnica/Feature_selection/diff_methylation/diff_met_LogFC>0.035_and_pval_0.01/GSE130030\n",
      "\n",
      "Filtered data for GSE131752 saved to /home/vpal/hobotnica/Feature_selection/diff_methylation/diff_met_LogFC>0.035_and_pval_0.01/GSE131752\n",
      "\n",
      "Filtered data for GSE131989 saved to /home/vpal/hobotnica/Feature_selection/diff_methylation/diff_met_LogFC>0.035_and_pval_0.01/GSE131989\n",
      "\n",
      "Filtered data for GSE134429 saved to /home/vpal/hobotnica/Feature_selection/diff_methylation/diff_met_LogFC>0.035_and_pval_0.01/GSE134429\n",
      "\n",
      "Filtered data for GSE143942 saved to /home/vpal/hobotnica/Feature_selection/diff_methylation/diff_met_LogFC>0.035_and_pval_0.01/GSE143942\n",
      "\n",
      "Filtered data for GSE144858 saved to /home/vpal/hobotnica/Feature_selection/diff_methylation/diff_met_LogFC>0.035_and_pval_0.01/GSE144858\n",
      "\n",
      "Filtered data for GSE145714 saved to /home/vpal/hobotnica/Feature_selection/diff_methylation/diff_met_LogFC>0.035_and_pval_0.01/GSE145714\n",
      "\n",
      "Filtered data for GSE156994 saved to /home/vpal/hobotnica/Feature_selection/diff_methylation/diff_met_LogFC>0.035_and_pval_0.01/GSE156994\n",
      "\n",
      "Filtered data for GSE166611 saved to /home/vpal/hobotnica/Feature_selection/diff_methylation/diff_met_LogFC>0.035_and_pval_0.01/GSE166611\n",
      "\n",
      "Filtered data for GSE175364 saved to /home/vpal/hobotnica/Feature_selection/diff_methylation/diff_met_LogFC>0.035_and_pval_0.01/GSE175364\n",
      "\n",
      "Filtered data for GSE182991 saved to /home/vpal/hobotnica/Feature_selection/diff_methylation/diff_met_LogFC>0.035_and_pval_0.01/GSE182991\n",
      "\n",
      "Filtered data for GSE193836 saved to /home/vpal/hobotnica/Feature_selection/diff_methylation/diff_met_LogFC>0.035_and_pval_0.01/GSE193836\n",
      "\n",
      "Filtered data for GSE214297 saved to /home/vpal/hobotnica/Feature_selection/diff_methylation/diff_met_LogFC>0.035_and_pval_0.01/GSE214297\n",
      "\n",
      "Filtered data for GSE217633 saved to /home/vpal/hobotnica/Feature_selection/diff_methylation/diff_met_LogFC>0.035_and_pval_0.01/GSE217633\n",
      "\n",
      "Filtered data for GSE219293 saved to /home/vpal/hobotnica/Feature_selection/diff_methylation/diff_met_LogFC>0.035_and_pval_0.01/GSE219293\n",
      "\n",
      "Filtered data for GSE32148 saved to /home/vpal/hobotnica/Feature_selection/diff_methylation/diff_met_LogFC>0.035_and_pval_0.01/GSE32148\n",
      "\n",
      "Filtered data for GSE42861 saved to /home/vpal/hobotnica/Feature_selection/diff_methylation/diff_met_LogFC>0.035_and_pval_0.01/GSE42861\n",
      "\n",
      "Filtered data for GSE56046 saved to /home/vpal/hobotnica/Feature_selection/diff_methylation/diff_met_LogFC>0.035_and_pval_0.01/GSE56046\n",
      "\n",
      "Filtered data for GSE56581 saved to /home/vpal/hobotnica/Feature_selection/diff_methylation/diff_met_LogFC>0.035_and_pval_0.01/GSE56581\n",
      "\n",
      "Filtered data for GSE59685 saved to /home/vpal/hobotnica/Feature_selection/diff_methylation/diff_met_LogFC>0.035_and_pval_0.01/GSE59685\n",
      "\n",
      "Filtered data for GSE67705 saved to /home/vpal/hobotnica/Feature_selection/diff_methylation/diff_met_LogFC>0.035_and_pval_0.01/GSE67705\n",
      "\n",
      "Filtered data for GSE67751 saved to /home/vpal/hobotnica/Feature_selection/diff_methylation/diff_met_LogFC>0.035_and_pval_0.01/GSE67751\n",
      "\n",
      "Filtered data for GSE71841 saved to /home/vpal/hobotnica/Feature_selection/diff_methylation/diff_met_LogFC>0.035_and_pval_0.01/GSE71841\n",
      "\n",
      "Filtered data for GSE72338 saved to /home/vpal/hobotnica/Feature_selection/diff_methylation/diff_met_LogFC>0.035_and_pval_0.01/GSE72338\n",
      "\n",
      "Filtered data for GSE72774 saved to /home/vpal/hobotnica/Feature_selection/diff_methylation/diff_met_LogFC>0.035_and_pval_0.01/GSE72774\n",
      "\n",
      "Filtered data for GSE72776 saved to /home/vpal/hobotnica/Feature_selection/diff_methylation/diff_met_LogFC>0.035_and_pval_0.01/GSE72776\n",
      "\n",
      "Filtered data for GSE77696 saved to /home/vpal/hobotnica/Feature_selection/diff_methylation/diff_met_LogFC>0.035_and_pval_0.01/GSE77696\n",
      "\n",
      "Filtered data for GSE81961 saved to /home/vpal/hobotnica/Feature_selection/diff_methylation/diff_met_LogFC>0.035_and_pval_0.01/GSE81961\n",
      "\n",
      "Filtered data for GSE87640 saved to /home/vpal/hobotnica/Feature_selection/diff_methylation/diff_met_LogFC>0.035_and_pval_0.01/GSE87640\n",
      "\n",
      "Filtered data for GSE87648 saved to /home/vpal/hobotnica/Feature_selection/diff_methylation/diff_met_LogFC>0.035_and_pval_0.01/GSE87648\n",
      "\n",
      "Filtered data for GSE99624 saved to /home/vpal/hobotnica/Feature_selection/diff_methylation/diff_met_LogFC>0.035_and_pval_0.01/GSE99624\n",
      "\n"
     ]
    }
   ],
   "source": [
    "##signature filtration after parametrs adjustments\n",
    "# library(dplyr)\n",
    "\n",
    "# folder_path <- \"/home/vpal/hobotnica/Feature_selection/diff_methylation/diff_met_all_sites\"\n",
    "# output_folder <- \"/home/vpal/hobotnica/Feature_selection/diff_methylation/diff_met_LogFC>0.035_and_pval_0.01\"\n",
    "\n",
    "# file_list <- list.files(folder_path, full.names = TRUE)\n",
    "\n",
    "# pval_threshold <- 0.01\n",
    "# logfc_threshold <- 0.035\n",
    "\n",
    "# for (file in file_list) {\n",
    "#   data <- read.csv(file, stringsAsFactors = FALSE)\n",
    "#   dataset_name <- tools::file_path_sans_ext(basename(file))\n",
    "\n",
    "#   if (all(c(\"P.Value\", \"logFC\") %in% colnames(data))) {\n",
    "#     filtered_data <- data %>%\n",
    "#       filter(P.Value < pval_threshold & abs(logFC) > logfc_threshold)\n",
    "\n",
    "#     output_file <- file.path(output_folder, paste0(dataset_name))\n",
    "#     write.csv(filtered_data, output_file, row.names = FALSE)\n",
    "    \n",
    "#     message(paste(\"Filtered data for\", dataset_name, \"saved to\", output_file))\n",
    "#   }\n",
    "# }"
   ]
  },
  {
   "cell_type": "code",
   "execution_count": 1,
   "metadata": {
    "vscode": {
     "languageId": "r"
    }
   },
   "outputs": [
    {
     "name": "stderr",
     "output_type": "stream",
     "text": [
      "Loading required package: foreach\n",
      "\n",
      "Loading required package: iterators\n",
      "\n",
      "Loading required package: parallel\n",
      "\n",
      "\n",
      "Attaching package: ‘dplyr’\n",
      "\n",
      "\n",
      "The following objects are masked from ‘package:stats’:\n",
      "\n",
      "    filter, lag\n",
      "\n",
      "\n",
      "The following objects are masked from ‘package:base’:\n",
      "\n",
      "    intersect, setdiff, setequal, union\n",
      "\n",
      "\n"
     ]
    }
   ],
   "source": [
    "library(amap)\n",
    "#Kendall distances fucntion\n",
    "\n",
    "kendall_dist <- function(ds_samples) {\n",
    "    ds_samples <- as.data.frame(ds_samples)\n",
    "    if (\"Condition\" %in% colnames(ds_samples) || \"Age\" %in% colnames(ds_samples)) {\n",
    "        matrix <- dplyr::select(ds_samples, -Condition, -Age)\n",
    "    } else {\n",
    "        matrix <- ds_samples\n",
    "    }\n",
    "    distMatrix <- Dist(matrix, method = \"kendall\", nbproc = 2) \n",
    "    return(distMatrix)\n",
    "}\n",
    "\n",
    "distrib_and_hobot <- function(distMatrix, annotation, number) {\n",
    "    h_val <- Hobotnica(distMatrix, annotation)\n",
    "    distMatrix_2 = as.matrix(distMatrix)\n",
    "    distribution <- RandomeDistribution(distMatrix_2, annotation, number)\n",
    "    pval <- (1+ sum(distribution >= h_val))/number\n",
    "    result <- list(pval = pval, h_val = h_val, random_h_scores = distribution)\n",
    "    return(result)\n",
    "}\n",
    "\n",
    "library(doParallel)\n",
    "library(dplyr)\n",
    "\n",
    "RandomeDistribution <- function(distMatrix, annotation, nPermutations) {\n",
    "    if (length(dim(distMatrix)) != 2) {\n",
    "        stop(\"The distMatrix dim length should be equal 2, stopping.\")\n",
    "    }\n",
    "    if (dim(distMatrix)[1] != dim(distMatrix)[2]) {\n",
    "        stop(\"distMatrix should be a square matrix, stopping\")\n",
    "    }\n",
    "    \n",
    "    H_scores <- foreach (i = 1:nPermutations, .packages = c(\"dplyr\"),\n",
    "                      .export = c(\"Hobotnica\"),\n",
    "                      .combine = 'c') %dopar% {\n",
    "        permutedAnnotation <- sample(annotation, length(annotation), replace=FALSE)\n",
    "        H_result <- Hobotnica(distMatrix, permutedAnnotation)\n",
    "        \n",
    "        return(H_result)\n",
    "    }\n",
    "\n",
    "}\n",
    "\n",
    "Hobotnica <- function(distMatrix, annotation){\n",
    "    if (typeof(annotation) == \"list\") {\n",
    "        annotation <- as.vector(unlist(annotation))\n",
    "    } else {\n",
    "        annotation <- as.vector(annotation)\n",
    "    }\n",
    "    rank.m <- as.matrix(distMatrix) # transform distance matrix to matrix object\n",
    "    rank.m[lower.tri(rank.m)] <- rank(rank.m[lower.tri(rank.m)]) # transform distances to ranks\n",
    "    rank.m[upper.tri(rank.m)] <- rank(rank.m[upper.tri(rank.m)]) #\n",
    "\n",
    "    inclass_sum <- 0\n",
    "    classes <- unique(annotation) # unique classes\n",
    "    Ns <- vector()\n",
    "\n",
    "    for (i  in 1:length(classes)){\n",
    "\n",
    "        clas <- classes[i]\n",
    "        class_samples <- which(annotation == clas)\n",
    "        l_tmp <- length(class_samples)\n",
    "        Ns[i] <- l_tmp\n",
    "        tmp_sum_inclass <- sum(rank.m[class_samples,class_samples]) # sum of ranks, describing in-class distances\n",
    "        inclass_sum <- inclass_sum + tmp_sum_inclass\n",
    "\n",
    "\n",
    "    }\n",
    "    Ns_sum <- sum(Ns)\n",
    "    biggest_bossible_rank <-  Ns_sum * (Ns_sum - 1)/2\n",
    "    number_of_unique_inclass_elements <-  sum(Ns * (Ns-1))/2\n",
    "    maximal_value <- number_of_unique_inclass_elements * (2*biggest_bossible_rank - number_of_unique_inclass_elements + 1)\n",
    "    minimal_value <- number_of_unique_inclass_elements* (1 + number_of_unique_inclass_elements)\n",
    "\n",
    "    normalization_factor <- maximal_value - minimal_value\n",
    "    return (max(0, 1 - (inclass_sum - minimal_value)/normalization_factor ))\n",
    "\n",
    "}\n",
    "\n"
   ]
  },
  {
   "cell_type": "code",
   "execution_count": 2,
   "metadata": {
    "vscode": {
     "languageId": "r"
    }
   },
   "outputs": [],
   "source": [
    "##graph for randome distribution visualization \n",
    "library(ggplot2)\n",
    "\n",
    "plot_distrib <- function(distrib_result) {\n",
    "\n",
    "  real_h_score <- as.numeric(distrib_result$h_val)\n",
    "  pval <- as.numeric(distrib_result$pval)\n",
    "  random_h_scores <- distrib_result$random_h_scores\n",
    "\n",
    "  hist_data <- hist(random_h_scores, breaks = seq(0, 1, by = 0.001), plot = FALSE)\n",
    "\n",
    "  normalized_counts <- hist_data$counts / sum(hist_data$counts)\n",
    "\n",
    "  data <- data.frame(h_scores = hist_data$mids, normalized_counts = normalized_counts)\n",
    "\n",
    "  plot <- ggplot(data = data, aes(x = h_scores, y = normalized_counts)) +\n",
    "    geom_bar(stat = \"identity\", fill = \"skyblue\", color = \"black\", alpha = 0.9) +\n",
    "    \n",
    "    geom_vline(aes(xintercept = real_h_score), color = \"red\", linetype = \"dashed\", size = 0.7) +\n",
    "    \n",
    "    labs(title = \"Normalized Distribution of Random h_scores with Real h_score Highlighted\",\n",
    "         x = \"Distribution of Random H-scores\",\n",
    "         y = \"Normalized Frequency\") +\n",
    "\n",
    "    annotate(\"text\", x = real_h_score - 0.001, \n",
    "             y = max(normalized_counts), \n",
    "             label = paste(\"H-score =\", real_h_score, \"\\np-value =\", pval), \n",
    "             color = \"red\", vjust = + 1.0) +\n",
    "    \n",
    "    # Set fixed x and y limits\n",
    "    xlim(c(0, 1))  +\n",
    "    ylim(c(0, max(normalized_counts)))\n",
    "           \n",
    "  return(plot)\n",
    "}\n",
    "\n",
    "#PCA function for plotting\n",
    "\n",
    "library(ggplot2)\n",
    "library(dplyr)\n",
    "library(ggfortify)\n",
    "\n",
    "PCA_my_plot <- function(data, filename, phrase){\n",
    "\n",
    "  # Select columns for PCA, excluding 'Condition' and 'Age'\n",
    "  pca_data <- data %>% select(-Condition, -Age, -Gender)\n",
    "\n",
    "  # Convert all columns to numeric\n",
    "  pca_data <- pca_data %>% mutate_all(as.numeric)\n",
    "\n",
    "  # # Replace infinite values with NA\n",
    "  # pca_data[!is.finite(as.matrix(pca_data))] <- NA\n",
    "\n",
    "  # total_columns <- ncol(pca_data)\n",
    "  # pca_data_clean <- pca_data %>% select_if(~ all(!is.na(.)))\n",
    "\n",
    "  # Perform PCA\n",
    "  pca_result <- prcomp(pca_data, center = TRUE, scale. = TRUE)\n",
    "\n",
    "  # Plot the PCA result with percentage of removed columns as subtitle\n",
    "   p <- autoplot(pca_result, data = data, colour = 'Condition') +\n",
    "    labs(title = filename, subtitle = paste0(phrase)) +\n",
    "    theme(plot.title = element_text(hjust = 0.5),\n",
    "          plot.subtitle = element_text(hjust = 0.5))\n",
    "\n",
    "  return(p)\n",
    "}\n"
   ]
  },
  {
   "cell_type": "code",
   "execution_count": 3,
   "metadata": {
    "vscode": {
     "languageId": "r"
    }
   },
   "outputs": [],
   "source": [
    "# library(dplyr)\n",
    "# library(ggplot2)\n",
    "\n",
    "# # Read the CSV file\n",
    "# result <- read.csv(\"/tank/projects/vpalagina_hobotnica/hobotnica/clocks/a_new_set_for_checks/final_res.csv\", sep = \",\", header = TRUE)\n",
    "\n",
    "# # Extract columns for plotting\n",
    "# x <- result$H_score\n",
    "# y <- result$H_score_no_Age\n",
    "# pvalue <- result$p_value\n",
    "# pvalue_no_age <- result$p_value_no_Age\n",
    "\n",
    "# # Create a data frame with relevant information\n",
    "# data <- data.frame(x = x, y = y, pvalue = pvalue, pvalue_no_age = pvalue_no_age)\n",
    "\n",
    "# # Add a column for significant p-values\n",
    "# data$significance <- ifelse(data$pvalue_no_age < 0.05, \"Significant (No age)\", \"Not significant (No age)\")\n",
    "# data$position <- ifelse(data$y > data$x, \"No age > With age\", \"No age < With age\")\n",
    "# data$position <- factor(data$position, levels = c(\"No age > With age\", \"No age < With age\"))\n",
    "\n",
    "# # Calculate how many points have pvalue_no_age significant\n",
    "# calcul <- sum(data$y > data$x)\n",
    "# significant_count <- sum(data$pvalue_no_age < 0.05)\n",
    "# significant_with_age_count <- sum(data$pvalue < 0.05)\n",
    "# # Plot\n",
    "# scatter_plot <- ggplot(data, aes(x = x, y = y)) +\n",
    "#   geom_point(aes(color = position, shape = significance), size = 3) +  \n",
    "#   geom_abline(intercept = 0, slope = 1, linetype = \"dashed\", color = \"black\") +  # Line where x = y\n",
    "#   labs(title = paste(\"Sum of H-scores without age > with age =\", calcul,\n",
    "#                      \"\\nSignificant pvalue_no_age (<0.05):\", significant_count,\n",
    "#                      \"\\nSignificant pvalue (with age <0.05):\", significant_with_age_count),\n",
    "#        x = \"H-score of initial data\",\n",
    "#        y = \"H-score after removal Age variable\") +\n",
    "#   scale_color_manual(values = c(\"No age > With age\" = \"#43ad43\", \"No age < With age\" = \"#ff0000fc\")) +  # Color points\n",
    "#   scale_shape_manual(values = c(\"Significant (No age)\" = 16, \"Not significant (No age)\" = 1)) +  # Shape based on significance\n",
    "#   theme_minimal() + theme()\n",
    "\n",
    "# print(scatter_plot)"
   ]
  },
  {
   "cell_type": "code",
   "execution_count": null,
   "metadata": {
    "vscode": {
     "languageId": "r"
    }
   },
   "outputs": [
    {
     "name": "stderr",
     "output_type": "stream",
     "text": [
      "Warning message:\n",
      "“executing %dopar% sequentially: no parallel backend registered”\n",
      "Warning message:\n",
      "“\u001b[1m\u001b[22mUsing `size` aesthetic for lines was deprecated in ggplot2 3.4.0.\n",
      "\u001b[36mℹ\u001b[39m Please use `linewidth` instead.”\n"
     ]
    }
   ],
   "source": [
    "# ###randome annotation pval\n",
    "library(dplyr)\n",
    "library(ggplot2)\n",
    "library(ggfortify)\n",
    "library(gridExtra)\n",
    "library(grid)\n",
    "library(arrow)\n",
    "\n",
    "input_dir <- \"/10tb/vpal/datasets/feather_ds_no_age_39_ds_only_interception\"\n",
    "filtered_sites_dir <- \"/home/vpal/hobotnica/Feature_selection/diff_methylation/diff_met_LogFC>0.035_and_pval_0.01\"\n",
    "distribution_path <- \"/home/vpal/hobotnica/Feature_selection/diff_methylation/distrib_h_score\"\n",
    "\n",
    "file_list1 <- list.files(path = input_dir, full.names = TRUE)\n",
    "file_list2 <- list.files(path = filtered_sites_dir, full.names = TRUE)\n",
    "\n",
    "if (length(file_list1) != length(file_list2)) {\n",
    "  stop(\"The number of files in each directory does not match.\")\n",
    "}\n",
    "\n",
    "new_result_table <- data.frame(\n",
    "  Dataset_ID = character(), \n",
    "  H_score = numeric(), \n",
    "  p_value = numeric(), \n",
    "  stringsAsFactors = FALSE\n",
    ")\n",
    "\n",
    "all_plots <- list()\n",
    "\n",
    "for (i in seq_along(file_list1)) {\n",
    "  file1 <- file_list1[i]\n",
    "  file2 <- file_list2[i]\n",
    "\n",
    "  file_name <- basename(file1)\n",
    "  dataset_name <- tools::file_path_sans_ext(file_name)\n",
    "\n",
    "  ds <- read_feather(file1)\n",
    "  annotation <- ds$Condition\n",
    "\n",
    "  filtered_sites <- read.csv(file2, stringsAsFactors = FALSE)$X\n",
    "  additional_columns <- c(\"index\", \"Condition\", \"Age\")\n",
    "  columns_to_process <- intersect(colnames(ds), filtered_sites)\n",
    "\n",
    "  columns_to_include <- unique(c(additional_columns, columns_to_process))\n",
    "\n",
    "  submatrix <- ds[, columns_to_include, drop = FALSE]\n",
    "  submatrix <- as.data.frame(submatrix)\n",
    "  rownames(submatrix) <- submatrix$index\n",
    "  submatrix <- submatrix[, !colnames(submatrix) %in% \"index\"]\n",
    "  distMatrix <- kendall_dist(submatrix)\n",
    "  distrib_result <- distrib_and_hobot(distMatrix, annotation, 1000) \n",
    "  h_score <- distrib_result$h_val\n",
    "  p_value <- distrib_result$pval\n",
    "\n",
    "  distribution <- distrib_result$random_h_scores\n",
    "  distrib_file <- file.path(distribution_path, paste0(dataset_name, \"_distrib.txt\"))\n",
    "  write.table(distribution, file = distrib_file, row.names = FALSE, col.names = FALSE)\n",
    "\n",
    "  new_result_table <- new_result_table %>%\n",
    "    add_row(Dataset_ID = dataset_name, H_score = h_score, p_value = p_value)\n",
    "\n",
    "  plot1 <- plot_distrib(distrib_result)\n",
    "  combined_plot <- arrangeGrob(plot1, ncol = 1)\n",
    "  all_plots[[i]] <- combined_plot\n",
    "}\n",
    "\n",
    "pdf(\"/home/vpal/hobotnica/Feature_selection/diff_methylation/diff_meth_diff_signature.pdf\", width = 16, height = 16) \n",
    "for (plot in all_plots) {\n",
    "  grid.newpage()\n",
    "  grid.draw(plot)\n",
    "}\n",
    "dev.off()\n",
    "\n",
    "write.csv(new_result_table, \"/home/vpal/hobotnica/Feature_selection/diff_methylation/diff_met_h_scores.csv\", row.names = FALSE)\n"
   ]
  }
 ],
 "metadata": {
  "kernelspec": {
   "display_name": "R",
   "language": "R",
   "name": "ir"
  },
  "language_info": {
   "codemirror_mode": "r",
   "file_extension": ".r",
   "mimetype": "text/x-r-source",
   "name": "R",
   "pygments_lexer": "r",
   "version": "4.4.1"
  }
 },
 "nbformat": 4,
 "nbformat_minor": 2
}
